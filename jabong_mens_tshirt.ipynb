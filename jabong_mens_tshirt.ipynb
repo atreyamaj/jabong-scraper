{
 "cells": [
  {
   "cell_type": "code",
   "execution_count": null,
   "metadata": {
    "collapsed": false
   },
   "outputs": [],
   "source": [
    "from bs4 import BeautifulSoup\n",
    "import requests\n",
    "import re\n",
    "import sys\n",
    "import csv\n",
    "import time"
   ]
  },
  {
   "cell_type": "code",
   "execution_count": null,
   "metadata": {
    "collapsed": false
   },
   "outputs": [],
   "source": [
    "count = 0\n",
    "start_time = time.time()\n",
    "process = 0"
   ]
  },
  {
   "cell_type": "code",
   "execution_count": null,
   "metadata": {
    "collapsed": false
   },
   "outputs": [],
   "source": [
    "with open('jabong.csv', 'w') as csvfile:\n",
    "\n",
    "\t# Start writing the CSV File\n",
    "\tjabongwriter = csv.writer(csvfile, delimiter=',')\n",
    "\tjabongwriter.writerow(['ID', 'Title', 'Original Price', 'Discounted Price', 'URL'])\n",
    "\tcsvfile.flush()"
   ]
  },
  {
   "cell_type": "code",
   "execution_count": null,
   "metadata": {
    "collapsed": true
   },
   "outputs": [],
   "source": [
    "\t# Choose the number of requests to the webpage\n",
    "\tfor i in range(1,300):\n",
    "\t\t# Request the webpage using requests 'GET' request\n",
    "\t\tr = requests.get('http://www.jabong.com/men/clothing/polos-tshirts/?sort=popularity&dir=desc&source=topnav_men&limit=1015&page='+str(i))\n",
    "\t\tdata = r.text\n",
    "\n",
    "\t\t# Calculate Processing Time\n",
    "\t\tprocess = 0\n",
    "\t\tstart_process = 0\n",
    "\t\tend_process = 0\n",
    "\n",
    "\t\t# Initialise Process time\n",
    "\t\tstart_process = time.time()\n",
    "\n",
    "\t\t# Declare the Beautiful Soup instance using lxml parser\n",
    "\t\tsoup = BeautifulSoup(data, \"lxml\")\n",
    "\n",
    "\t\t# Find the div item for search products\n",
    "\t\titems = soup.find_all(\"section\", class_=\"row search-product animate-products\")\n",
    "\n",
    "\t\t# Find the div item for product information\n",
    "\t\tproducts = soup.find_all(\"div\", class_=\"product-info\")\n",
    "\n",
    "\t\t# Link to append for relative links in the item URL\n",
    "\t\tlink = \"http://www.jabong.com/men/clothing/polos-tshirts\""
   ]
  },
  {
   "cell_type": "code",
   "execution_count": null,
   "metadata": {
    "collapsed": true
   },
   "outputs": [],
   "source": [
    "\t\t# Used to iterate through all the items fetched in the products \n",
    "\t\tfor product in products:\n",
    "\n",
    "\t\t\t# Find the title of each product\n",
    "\t\t\ttitle = product.find('div', class_='h4')\n",
    "\t\t\ttitle_list = title.text\n",
    "\t\t\ttitle_list = unicode(title_list).encode('utf-8')\n",
    "\n"
   ]
  },
  {
   "cell_type": "code",
   "execution_count": null,
   "metadata": {
    "collapsed": true
   },
   "outputs": [],
   "source": [
    "\t\t\t# Initialize strings for MRP Price and Discounted Price\n",
    "\t\t\tmrp_price = \"\"\n",
    "\t\t\tdiscounted_price = \"\"\n",
    "\n",
    "\t\t\t# Find the two prices in the div \n",
    "\t\t\tprice = product.find('div', class_=\"price\")\n",
    "\t\t\tparent = price.find_all('span')\n",
    "\t\t\tstandard_price = product.find_all('span', class_='standard-price')\n",
    "\n",
    "\t\t\t# If Standard Price div is empty, it means that a dummy object has been inserted\n",
    "\t\t\tif len(standard_price) != 0:\n",
    "\t\t\t\t# The first value in the standard price list is the MRP Price\n",
    "\t\t\t\tmrp_price = standard_price[0].string\n",
    "\t\t\t\tmrp_price = unicode(mrp_price).encode('utf-8')\n",
    "\t\t\t\t\n",
    "\t\t\t\t# If the Standard Price List has two items, then it also contains a discount\n",
    "\t\t\t\tif len(standard_price) == 2:\n",
    "\t\t\t\t\tdiscounted_price = standard_price[1].string\n",
    "\t\t\t\t\tdiscounted_price = unicode(discounted_price).encode('utf-8')\n",
    "\t\t\t\t# Else, it does not have a discounted price\n",
    "\t\t\t\telse:\n",
    "\t\t\t\t    discounted_price = standard_price[0].string\n",
    "\t\t\t\t    discounted_price = unicode(discounted_price).encode('utf-8')\n",
    "\t\t\t\t\n"
   ]
  },
  {
   "cell_type": "code",
   "execution_count": null,
   "metadata": {
    "collapsed": true
   },
   "outputs": [],
   "source": [
    "\t\t\t\t# Get the URL Link for the given product\n",
    "\t\t\t\turl_link = link + str(product.parent.get('href'))\n",
    "\t\t\t\turl_link = unicode(url_link).encode('utf-8')\n",
    "\t\t\t\tprint(\"count = \" + str(count))"
   ]
  },
  {
   "cell_type": "code",
   "execution_count": null,
   "metadata": {
    "collapsed": true
   },
   "outputs": [],
   "source": [
    "\t\t\t\t# An ID of the product to be fetched\n",
    "\t\t\t\tid_item = product.parent.parent.get('data-product-id')\n",
    "\t\t\t\tid_item = unicode(id_item).encode('utf-8')\n",
    "\n",
    "\t\t\t\t# If no ID is given that means it is a dummy item\n",
    "\t\t\t\tif id_item == None:\n",
    "\t\t\t\t\tcontinue\n",
    "\t\t\t\t# If an ID is present it means that it means \n",
    "\t\t\t\telse:\n",
    "\t\t\t\t\tjabongwriter.writerow([id_item, title_list, mrp_price, discounted_price, url_link])\n",
    "\t\t\t\t\tcsvfile.flush()"
   ]
  },
  {
   "cell_type": "code",
   "execution_count": null,
   "metadata": {
    "collapsed": true
   },
   "outputs": [],
   "source": [
    "\t\t\t\t# Increment count to limit it till 10000\n",
    "\t\t\t\tcount += 1\n",
    "\n",
    "\t\t\t\t# If count == 10000, then limit is reached\n",
    "\t\t\t\tif count == 10000:\n",
    "\t\t\t\t\tend_time = time.time()\n",
    "\t\t\t\t\t# List out total what all information\n",
    "\t\t\t\t\tprint(\"Total of \" + str(count) + \" items taken\")\n",
    "\t\t\t\t\tprint(\"Total time is: \" + str(end_time-start_time))\n",
    "\t\t\t\t\tsys.exit(0)\n",
    "\t\t\t\t# Else keep on iterating till limit is reached\n",
    "\t\t\t\telse:\n",
    "\t\t\t\t\tcontinue"
   ]
  },
  {
   "cell_type": "code",
   "execution_count": null,
   "metadata": {
    "collapsed": true
   },
   "outputs": [],
   "source": [
    "\t\t# Processing time calculation\n",
    "\t\tend_process = time.time()\n",
    "\t\tprocess += (end_process - start_process)\n",
    "\t\tprint(\"Process time for this cycle is: \" + str(end_process-start_process))\n"
   ]
  },
  {
   "cell_type": "code",
   "execution_count": null,
   "metadata": {
    "collapsed": true
   },
   "outputs": [],
   "source": []
  }
 ],
 "metadata": {
  "kernelspec": {
   "display_name": "Python 2",
   "language": "python",
   "name": "python2"
  },
  "language_info": {
   "codemirror_mode": {
    "name": "ipython",
    "version": 2
   },
   "file_extension": ".py",
   "mimetype": "text/x-python",
   "name": "python",
   "nbconvert_exporter": "python",
   "pygments_lexer": "ipython2",
   "version": "2.7.13"
  }
 },
 "nbformat": 4,
 "nbformat_minor": 2
}
